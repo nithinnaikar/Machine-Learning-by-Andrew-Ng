{
  "nbformat": 4,
  "nbformat_minor": 0,
  "metadata": {
    "colab": {
      "name": "Logistic_Regression",
      "provenance": []
    },
    "kernelspec": {
      "name": "python3",
      "display_name": "Python 3"
    }
  },
  "cells": [
    {
      "cell_type": "code",
      "metadata": {
        "id": "JaC60G8eNqhP"
      },
      "source": [
        "# Importing necessary libraries\n",
        "import numpy\n",
        "import sklearn\n",
        "import matplotlib\n",
        "%matplotlib inline"
      ],
      "execution_count": null,
      "outputs": []
    },
    {
      "cell_type": "code",
      "metadata": {
        "colab": {
          "base_uri": "https://localhost:8080/"
        },
        "id": "ybODepthnkZ2",
        "outputId": "50b6c30d-7c05-4658-9013-c1f9d2453f83"
      },
      "source": [
        "# Initializing the dataset\n",
        "dataset = numpy.loadtxt(fname = \"/content/ex2data1.txt\", delimiter = \",\")\n",
        "print(\"Dataset:\\n\\n{}\\n\\nShape:{}\".format(dataset, dataset.shape))"
      ],
      "execution_count": null,
      "outputs": [
        {
          "output_type": "stream",
          "text": [
            "Dataset:\n",
            "\n",
            "[[34.62365962 78.02469282  0.        ]\n",
            " [30.28671077 43.89499752  0.        ]\n",
            " [35.84740877 72.90219803  0.        ]\n",
            " [60.18259939 86.3085521   1.        ]\n",
            " [79.03273605 75.34437644  1.        ]\n",
            " [45.08327748 56.31637178  0.        ]\n",
            " [61.10666454 96.51142588  1.        ]\n",
            " [75.02474557 46.55401354  1.        ]\n",
            " [76.0987867  87.42056972  1.        ]\n",
            " [84.43281996 43.53339331  1.        ]\n",
            " [95.86155507 38.22527806  0.        ]\n",
            " [75.01365839 30.60326323  0.        ]\n",
            " [82.30705337 76.4819633   1.        ]\n",
            " [69.36458876 97.71869196  1.        ]\n",
            " [39.53833914 76.03681085  0.        ]\n",
            " [53.97105215 89.20735014  1.        ]\n",
            " [69.07014406 52.74046973  1.        ]\n",
            " [67.94685548 46.67857411  0.        ]\n",
            " [70.66150955 92.92713789  1.        ]\n",
            " [76.97878373 47.57596365  1.        ]\n",
            " [67.37202755 42.83843832  0.        ]\n",
            " [89.67677575 65.79936593  1.        ]\n",
            " [50.53478829 48.85581153  0.        ]\n",
            " [34.21206098 44.2095286   0.        ]\n",
            " [77.92409145 68.97235999  1.        ]\n",
            " [62.27101367 69.95445795  1.        ]\n",
            " [80.19018075 44.82162893  1.        ]\n",
            " [93.1143888  38.80067034  0.        ]\n",
            " [61.83020602 50.25610789  0.        ]\n",
            " [38.7858038  64.99568096  0.        ]\n",
            " [61.37928945 72.80788731  1.        ]\n",
            " [85.40451939 57.05198398  1.        ]\n",
            " [52.10797973 63.12762377  0.        ]\n",
            " [52.04540477 69.43286012  1.        ]\n",
            " [40.23689374 71.16774802  0.        ]\n",
            " [54.63510555 52.21388588  0.        ]\n",
            " [33.91550011 98.86943574  0.        ]\n",
            " [64.17698887 80.90806059  1.        ]\n",
            " [74.78925296 41.57341523  0.        ]\n",
            " [34.18364003 75.23772034  0.        ]\n",
            " [83.90239366 56.30804622  1.        ]\n",
            " [51.54772027 46.85629026  0.        ]\n",
            " [94.44336777 65.56892161  1.        ]\n",
            " [82.36875376 40.61825516  0.        ]\n",
            " [51.04775177 45.82270146  0.        ]\n",
            " [62.22267576 52.06099195  0.        ]\n",
            " [77.19303493 70.4582      1.        ]\n",
            " [97.77159928 86.72782233  1.        ]\n",
            " [62.0730638  96.76882412  1.        ]\n",
            " [91.5649745  88.69629255  1.        ]\n",
            " [79.94481794 74.16311935  1.        ]\n",
            " [99.27252693 60.999031    1.        ]\n",
            " [90.54671411 43.39060181  1.        ]\n",
            " [34.52451385 60.39634246  0.        ]\n",
            " [50.28649612 49.80453881  0.        ]\n",
            " [49.58667722 59.80895099  0.        ]\n",
            " [97.64563396 68.86157272  1.        ]\n",
            " [32.57720017 95.59854761  0.        ]\n",
            " [74.24869137 69.82457123  1.        ]\n",
            " [71.79646206 78.45356225  1.        ]\n",
            " [75.39561147 85.75993667  1.        ]\n",
            " [35.28611282 47.02051395  0.        ]\n",
            " [56.2538175  39.26147251  0.        ]\n",
            " [30.05882245 49.59297387  0.        ]\n",
            " [44.66826172 66.45008615  0.        ]\n",
            " [66.56089447 41.09209808  0.        ]\n",
            " [40.45755098 97.53518549  1.        ]\n",
            " [49.07256322 51.88321182  0.        ]\n",
            " [80.27957401 92.11606081  1.        ]\n",
            " [66.74671857 60.99139403  1.        ]\n",
            " [32.72283304 43.30717306  0.        ]\n",
            " [64.03932042 78.03168802  1.        ]\n",
            " [72.34649423 96.22759297  1.        ]\n",
            " [60.45788574 73.0949981   1.        ]\n",
            " [58.84095622 75.85844831  1.        ]\n",
            " [99.8278578  72.36925193  1.        ]\n",
            " [47.26426911 88.475865    1.        ]\n",
            " [50.4581598  75.80985953  1.        ]\n",
            " [60.45555629 42.50840944  0.        ]\n",
            " [82.22666158 42.71987854  0.        ]\n",
            " [88.91389642 69.8037889   1.        ]\n",
            " [94.83450672 45.6943068   1.        ]\n",
            " [67.31925747 66.58935318  1.        ]\n",
            " [57.23870632 59.51428198  1.        ]\n",
            " [80.366756   90.9601479   1.        ]\n",
            " [68.46852179 85.5943071   1.        ]\n",
            " [42.07545454 78.844786    0.        ]\n",
            " [75.47770201 90.424539    1.        ]\n",
            " [78.63542435 96.64742717  1.        ]\n",
            " [52.34800399 60.76950526  0.        ]\n",
            " [94.09433113 77.15910509  1.        ]\n",
            " [90.44855097 87.50879176  1.        ]\n",
            " [55.48216114 35.57070347  0.        ]\n",
            " [74.49269242 84.84513685  1.        ]\n",
            " [89.84580671 45.35828361  1.        ]\n",
            " [83.48916274 48.3802858   1.        ]\n",
            " [42.26170081 87.10385094  1.        ]\n",
            " [99.31500881 68.77540947  1.        ]\n",
            " [55.34001756 64.93193801  1.        ]\n",
            " [74.775893   89.5298129   1.        ]]\n",
            "\n",
            "Shape:(100, 3)\n"
          ],
          "name": "stdout"
        }
      ]
    },
    {
      "cell_type": "code",
      "metadata": {
        "id": "IP7GyNERn4QY"
      },
      "source": [
        "# Dividing and reshaping the dataset into training and testing segments\n",
        "from sklearn.model_selection import train_test_split\n",
        "X_train, X_test, y_train, y_test = sklearn.model_selection.train_test_split(dataset[:, :2], dataset[:, 2], test_size = 0.1)\n",
        "X_train = numpy.resize(X_train, (90, 2))\n",
        "y_train = numpy.resize(y_train, (90, 1))\n",
        "X_test = numpy.resize(X_test, (10, 2))\n",
        "y_test = numpy.resize(y_test, (10, 1))"
      ],
      "execution_count": null,
      "outputs": []
    },
    {
      "cell_type": "code",
      "metadata": {
        "colab": {
          "base_uri": "https://localhost:8080/"
        },
        "id": "ixvh9DEsoOZL",
        "outputId": "384e1741-df2a-4af8-a9ce-d816cfec88fd"
      },
      "source": [
        "# Visualizing the 90x2 input feature matrix\n",
        "print(\"X_train:\\n\\n{}\\n\\nShape:{}\".format(X_train, X_train.shape))"
      ],
      "execution_count": null,
      "outputs": [
        {
          "output_type": "stream",
          "text": [
            "X_train:\n",
            "\n",
            "[[66.56089447 41.09209808]\n",
            " [62.22267576 52.06099195]\n",
            " [74.775893   89.5298129 ]\n",
            " [91.5649745  88.69629255]\n",
            " [47.26426911 88.475865  ]\n",
            " [74.24869137 69.82457123]\n",
            " [49.07256322 51.88321182]\n",
            " [38.7858038  64.99568096]\n",
            " [76.0987867  87.42056972]\n",
            " [42.26170081 87.10385094]\n",
            " [58.84095622 75.85844831]\n",
            " [70.66150955 92.92713789]\n",
            " [77.19303493 70.4582    ]\n",
            " [52.04540477 69.43286012]\n",
            " [99.27252693 60.999031  ]\n",
            " [55.34001756 64.93193801]\n",
            " [69.36458876 97.71869196]\n",
            " [45.08327748 56.31637178]\n",
            " [67.37202755 42.83843832]\n",
            " [34.62365962 78.02469282]\n",
            " [61.37928945 72.80788731]\n",
            " [54.63510555 52.21388588]\n",
            " [42.07545454 78.844786  ]\n",
            " [35.84740877 72.90219803]\n",
            " [82.22666158 42.71987854]\n",
            " [30.05882245 49.59297387]\n",
            " [51.04775177 45.82270146]\n",
            " [64.17698887 80.90806059]\n",
            " [61.83020602 50.25610789]\n",
            " [88.91389642 69.8037889 ]\n",
            " [60.45788574 73.0949981 ]\n",
            " [79.03273605 75.34437644]\n",
            " [69.07014406 52.74046973]\n",
            " [53.97105215 89.20735014]\n",
            " [90.44855097 87.50879176]\n",
            " [78.63542435 96.64742717]\n",
            " [61.10666454 96.51142588]\n",
            " [89.67677575 65.79936593]\n",
            " [94.83450672 45.6943068 ]\n",
            " [67.94685548 46.67857411]\n",
            " [72.34649423 96.22759297]\n",
            " [76.97878373 47.57596365]\n",
            " [52.34800399 60.76950526]\n",
            " [62.0730638  96.76882412]\n",
            " [97.64563396 68.86157272]\n",
            " [30.28671077 43.89499752]\n",
            " [97.77159928 86.72782233]\n",
            " [49.58667722 59.80895099]\n",
            " [51.54772027 46.85629026]\n",
            " [75.02474557 46.55401354]\n",
            " [74.78925296 41.57341523]\n",
            " [71.79646206 78.45356225]\n",
            " [80.27957401 92.11606081]\n",
            " [50.4581598  75.80985953]\n",
            " [34.21206098 44.2095286 ]\n",
            " [75.01365839 30.60326323]\n",
            " [40.45755098 97.53518549]\n",
            " [80.19018075 44.82162893]\n",
            " [90.54671411 43.39060181]\n",
            " [34.52451385 60.39634246]\n",
            " [56.2538175  39.26147251]\n",
            " [64.03932042 78.03168802]\n",
            " [34.18364003 75.23772034]\n",
            " [50.53478829 48.85581153]\n",
            " [85.40451939 57.05198398]\n",
            " [79.94481794 74.16311935]\n",
            " [95.86155507 38.22527806]\n",
            " [60.45555629 42.50840944]\n",
            " [66.74671857 60.99139403]\n",
            " [99.8278578  72.36925193]\n",
            " [99.31500881 68.77540947]\n",
            " [77.92409145 68.97235999]\n",
            " [82.36875376 40.61825516]\n",
            " [83.48916274 48.3802858 ]\n",
            " [50.28649612 49.80453881]\n",
            " [93.1143888  38.80067034]\n",
            " [44.66826172 66.45008615]\n",
            " [55.48216114 35.57070347]\n",
            " [94.09433113 77.15910509]\n",
            " [39.53833914 76.03681085]\n",
            " [62.27101367 69.95445795]\n",
            " [60.18259939 86.3085521 ]\n",
            " [32.57720017 95.59854761]\n",
            " [68.46852179 85.5943071 ]\n",
            " [32.72283304 43.30717306]\n",
            " [80.366756   90.9601479 ]\n",
            " [40.23689374 71.16774802]\n",
            " [52.10797973 63.12762377]\n",
            " [75.39561147 85.75993667]\n",
            " [57.23870632 59.51428198]]\n",
            "\n",
            "Shape:(90, 2)\n"
          ],
          "name": "stdout"
        }
      ]
    },
    {
      "cell_type": "code",
      "metadata": {
        "colab": {
          "base_uri": "https://localhost:8080/"
        },
        "id": "v04-J3wW_PsG",
        "outputId": "70244b0e-36c4-4c1b-da32-2d1e7586712e"
      },
      "source": [
        "# Visualizing the 90x1 target output vector\n",
        "print(\"y_train:\\n\\n{}\\n\\nShape:{}\".format(y_train, y_train.shape))"
      ],
      "execution_count": null,
      "outputs": [
        {
          "output_type": "stream",
          "text": [
            "y_train:\n",
            "\n",
            "[[0.]\n",
            " [0.]\n",
            " [1.]\n",
            " [1.]\n",
            " [1.]\n",
            " [1.]\n",
            " [0.]\n",
            " [0.]\n",
            " [1.]\n",
            " [1.]\n",
            " [1.]\n",
            " [1.]\n",
            " [1.]\n",
            " [1.]\n",
            " [1.]\n",
            " [1.]\n",
            " [1.]\n",
            " [0.]\n",
            " [0.]\n",
            " [0.]\n",
            " [1.]\n",
            " [0.]\n",
            " [0.]\n",
            " [0.]\n",
            " [0.]\n",
            " [0.]\n",
            " [0.]\n",
            " [1.]\n",
            " [0.]\n",
            " [1.]\n",
            " [1.]\n",
            " [1.]\n",
            " [1.]\n",
            " [1.]\n",
            " [1.]\n",
            " [1.]\n",
            " [1.]\n",
            " [1.]\n",
            " [1.]\n",
            " [0.]\n",
            " [1.]\n",
            " [1.]\n",
            " [0.]\n",
            " [1.]\n",
            " [1.]\n",
            " [0.]\n",
            " [1.]\n",
            " [0.]\n",
            " [0.]\n",
            " [1.]\n",
            " [0.]\n",
            " [1.]\n",
            " [1.]\n",
            " [1.]\n",
            " [0.]\n",
            " [0.]\n",
            " [1.]\n",
            " [1.]\n",
            " [1.]\n",
            " [0.]\n",
            " [0.]\n",
            " [1.]\n",
            " [0.]\n",
            " [0.]\n",
            " [1.]\n",
            " [1.]\n",
            " [0.]\n",
            " [0.]\n",
            " [1.]\n",
            " [1.]\n",
            " [1.]\n",
            " [1.]\n",
            " [0.]\n",
            " [1.]\n",
            " [0.]\n",
            " [0.]\n",
            " [0.]\n",
            " [0.]\n",
            " [1.]\n",
            " [0.]\n",
            " [1.]\n",
            " [1.]\n",
            " [0.]\n",
            " [1.]\n",
            " [0.]\n",
            " [1.]\n",
            " [0.]\n",
            " [0.]\n",
            " [1.]\n",
            " [1.]]\n",
            "\n",
            "Shape:(90, 1)\n"
          ],
          "name": "stdout"
        }
      ]
    },
    {
      "cell_type": "code",
      "metadata": {
        "colab": {
          "base_uri": "https://localhost:8080/",
          "height": 298
        },
        "id": "6h-OFXXj_R0l",
        "outputId": "bbb36aed-5c2b-4910-e76c-245787e03a9e"
      },
      "source": [
        "# Graphing the training data\n",
        "matplotlib.pyplot.figure()\n",
        "matplotlib.pyplot.scatter(x = X_train[:, 0],\n",
        "                          y = X_train[:, 1],\n",
        "                          c = [\"red\" if label == 1 else \"blue\" for label in y_train])\n",
        "matplotlib.pyplot.legend(handles = [matplotlib.patches.Patch(color = \"red\", label = \"Accepted\"),\n",
        "                                    matplotlib.patches.Patch(color = \"blue\", label = \"Rejected\")],\n",
        "                                   loc = \"upper right\")\n",
        "matplotlib.pyplot.xlim(30, 100)\n",
        "matplotlib.pyplot.xlim(30, 100)\n",
        "matplotlib.pyplot.xlabel(\"Exam 1 Score\")\n",
        "matplotlib.pyplot.ylabel(\"Exam 2 Score\")"
      ],
      "execution_count": null,
      "outputs": [
        {
          "output_type": "execute_result",
          "data": {
            "text/plain": [
              "Text(0, 0.5, 'Exam 2 Score')"
            ]
          },
          "metadata": {
            "tags": []
          },
          "execution_count": 6
        },
        {
          "output_type": "display_data",
          "data": {
            "image/png": "[encoded data removed]",
            "text/plain": [
              "<Figure size 432x288 with 1 Axes>"
            ]
          },
          "metadata": {
            "tags": [],
            "needs_background": "light"
          }
        }
      ]
    },
    {
      "cell_type": "code",
      "metadata": {
        "id": "V9pkhYB4Ec4Z"
      },
      "source": [
        "# Initializing the model\n",
        "from sklearn.linear_model import LogisticRegression\n",
        "model = LogisticRegression()"
      ],
      "execution_count": null,
      "outputs": []
    },
    {
      "cell_type": "code",
      "metadata": {
        "colab": {
          "base_uri": "https://localhost:8080/",
          "height": 354
        },
        "id": "IkG10aUcZy2J",
        "outputId": "00ccfcb3-89b5-4d2f-9074-c4c04c35c7dd"
      },
      "source": [
        "# Visualizing the initial model\n",
        "matplotlib.pyplot.figure()\n",
        "matplotlib.pyplot.scatter(x = X_train[:, 0],\n",
        "                          y = X_train[:, 1],\n",
        "                          c = [\"red\" if label == 1 else \"blue\" for label in y_train])\n",
        "matplotlib.pyplot.legend(handles = [matplotlib.patches.Patch(color = \"red\", label = \"Accepted\"),\n",
        "                                    matplotlib.patches.Patch(color = \"blue\", label = \"Rejected\")],\n",
        "                                   loc = \"upper right\")\n",
        "x = numpy.linspace(30, 100) \n",
        "y = -(0 + 0*x) / 0\n",
        "matplotlib.pyplot.plot(x, y)\n",
        "matplotlib.pyplot.xlabel(\"Exam 1 Score\")\n",
        "matplotlib.pyplot.ylabel(\"Exam 2 Score\")"
      ],
      "execution_count": null,
      "outputs": [
        {
          "output_type": "stream",
          "text": [
            "/usr/local/lib/python3.6/dist-packages/ipykernel_launcher.py:10: RuntimeWarning: invalid value encountered in true_divide\n",
            "  # Remove the CWD from sys.path while we load stuff.\n"
          ],
          "name": "stderr"
        },
        {
          "output_type": "execute_result",
          "data": {
            "text/plain": [
              "Text(0, 0.5, 'Exam 2 Score')"
            ]
          },
          "metadata": {
            "tags": []
          },
          "execution_count": 8
        },
        {
          "output_type": "display_data",
          "data": {
            "image/png": "[encoded data removed]",
            "text/plain": [
              "<Figure size 432x288 with 1 Axes>"
            ]
          },
          "metadata": {
            "tags": [],
            "needs_background": "light"
          }
        }
      ]
    },
    {
      "cell_type": "code",
      "metadata": {
        "colab": {
          "base_uri": "https://localhost:8080/"
        },
        "id": "ddXcvIMPBzz5",
        "outputId": "34cde051-3b89-4871-eee0-01ffc6871cab"
      },
      "source": [
        "# Optimizing the model\n",
        "model.fit(X_train, y_train)"
      ],
      "execution_count": null,
      "outputs": [
        {
          "output_type": "stream",
          "text": [
            "/usr/local/lib/python3.6/dist-packages/sklearn/utils/validation.py:760: DataConversionWarning: A column-vector y was passed when a 1d array was expected. Please change the shape of y to (n_samples, ), for example using ravel().\n",
            "  y = column_or_1d(y, warn=True)\n"
          ],
          "name": "stderr"
        },
        {
          "output_type": "execute_result",
          "data": {
            "text/plain": [
              "LogisticRegression(C=1.0, class_weight=None, dual=False, fit_intercept=True,\n",
              "                   intercept_scaling=1, l1_ratio=None, max_iter=100,\n",
              "                   multi_class='auto', n_jobs=None, penalty='l2',\n",
              "                   random_state=None, solver='lbfgs', tol=0.0001, verbose=0,\n",
              "                   warm_start=False)"
            ]
          },
          "metadata": {
            "tags": []
          },
          "execution_count": 9
        }
      ]
    },
    {
      "cell_type": "code",
      "metadata": {
        "colab": {
          "base_uri": "https://localhost:8080/",
          "height": 298
        },
        "id": "rJMv63zWEMpE",
        "outputId": "1858d0a7-25c2-4340-b5c2-cd861f854cf7"
      },
      "source": [
        "# Visualizing the optimized model\n",
        "matplotlib.pyplot.figure()\n",
        "matplotlib.pyplot.scatter(x = X_train[:, 0],\n",
        "                          y = X_train[:, 1],\n",
        "                          c = [\"red\" if label == 1 else \"blue\" for label in y_train])\n",
        "matplotlib.pyplot.legend(handles = [matplotlib.patches.Patch(color = \"red\", label = \"Accepted\"),\n",
        "                                    matplotlib.patches.Patch(color = \"blue\", label = \"Rejected\")],\n",
        "                                   loc = \"upper right\")\n",
        "x = numpy.linspace(30, 100) \n",
        "y = -(float(model.intercept_) + float(model.coef_[0][0])*x) / model.coef_[0][1]\n",
        "matplotlib.pyplot.plot(x, y) \n",
        "matplotlib.pyplot.xlabel(\"Exam 1 Score\")\n",
        "matplotlib.pyplot.ylabel(\"Exam 2 Score\")"
      ],
      "execution_count": null,
      "outputs": [
        {
          "output_type": "execute_result",
          "data": {
            "text/plain": [
              "Text(0, 0.5, 'Exam 2 Score')"
            ]
          },
          "metadata": {
            "tags": []
          },
          "execution_count": 10
        },
        {
          "output_type": "display_data",
          "data": {
            "image/png": "[encoded data removed]",
            "text/plain": [
              "<Figure size 432x288 with 1 Axes>"
            ]
          },
          "metadata": {
            "tags": [],
            "needs_background": "light"
          }
        }
      ]
    },
    {
      "cell_type": "code",
      "metadata": {
        "colab": {
          "base_uri": "https://localhost:8080/"
        },
        "id": "eoC6OFRpywMb",
        "outputId": "412f647d-5ec0-4736-d025-2a398edfce91"
      },
      "source": [
        "print(\"Testing Accuracy: {}%\".format(100 * (sklearn.metrics.accuracy_score(y_test, model.predict(X_test)))))"
      ],
      "execution_count": null,
      "outputs": [
        {
          "output_type": "stream",
          "text": [
            "Testing Accuracy: 90.0%\n"
          ],
          "name": "stdout"
        }
      ]
    }
  ]
}
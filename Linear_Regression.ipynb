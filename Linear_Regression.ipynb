{
  "nbformat": 4,
  "nbformat_minor": 0,
  "metadata": {
    "colab": {
      "name": "Linear Regression",
      "provenance": []
    },
    "kernelspec": {
      "name": "python3",
      "display_name": "Python 3"
    }
  },
  "cells": [
    {
      "cell_type": "code",
      "metadata": {
        "id": "a0OotUKK5NwP"
      },
      "source": [
        "# Importing necessary libraries\n",
        "import pandas\n",
        "import sklearn\n",
        "import numpy\n",
        "import matplotlib"
      ],
      "execution_count": 145,
      "outputs": []
    },
    {
      "cell_type": "code",
      "metadata": {
        "colab": {
          "base_uri": "https://localhost:8080/",
          "height": 196
        },
        "id": "dO6DscHA6mgg",
        "outputId": "2629cc92-c227-48b2-f770-d48dedabe06c"
      },
      "source": [
        "# Initializing the dataset\n",
        "dataset = pandas.read_csv(filepath_or_buffer = \"/content/ex1data1.txt\")\n",
        "dataset.head()"
      ],
      "execution_count": 146,
      "outputs": [
        {
          "output_type": "execute_result",
          "data": {
            "text/html": [
              "<div>\n",
              "<style scoped>\n",
              "    .dataframe tbody tr th:only-of-type {\n",
              "        vertical-align: middle;\n",
              "    }\n",
              "\n",
              "    .dataframe tbody tr th {\n",
              "        vertical-align: top;\n",
              "    }\n",
              "\n",
              "    .dataframe thead th {\n",
              "        text-align: right;\n",
              "    }\n",
              "</style>\n",
              "<table border=\"1\" class=\"dataframe\">\n",
              "  <thead>\n",
              "    <tr style=\"text-align: right;\">\n",
              "      <th></th>\n",
              "      <th>City Population</th>\n",
              "      <th>Company Profit</th>\n",
              "    </tr>\n",
              "  </thead>\n",
              "  <tbody>\n",
              "    <tr>\n",
              "      <th>0</th>\n",
              "      <td>6.1101</td>\n",
              "      <td>17.5920</td>\n",
              "    </tr>\n",
              "    <tr>\n",
              "      <th>1</th>\n",
              "      <td>5.5277</td>\n",
              "      <td>9.1302</td>\n",
              "    </tr>\n",
              "    <tr>\n",
              "      <th>2</th>\n",
              "      <td>8.5186</td>\n",
              "      <td>13.6620</td>\n",
              "    </tr>\n",
              "    <tr>\n",
              "      <th>3</th>\n",
              "      <td>7.0032</td>\n",
              "      <td>11.8540</td>\n",
              "    </tr>\n",
              "    <tr>\n",
              "      <th>4</th>\n",
              "      <td>5.8598</td>\n",
              "      <td>6.8233</td>\n",
              "    </tr>\n",
              "  </tbody>\n",
              "</table>\n",
              "</div>"
            ],
            "text/plain": [
              "   City Population   Company Profit\n",
              "0           6.1101          17.5920\n",
              "1           5.5277           9.1302\n",
              "2           8.5186          13.6620\n",
              "3           7.0032          11.8540\n",
              "4           5.8598           6.8233"
            ]
          },
          "metadata": {
            "tags": []
          },
          "execution_count": 146
        }
      ]
    },
    {
      "cell_type": "code",
      "metadata": {
        "id": "-2r9Q178HCE6"
      },
      "source": [
        "# Defining and formatting \"X\", or the feature input array\n",
        "X = numpy.resize(dataset['City Population'].to_numpy(), (97, 1))"
      ],
      "execution_count": 147,
      "outputs": []
    },
    {
      "cell_type": "code",
      "metadata": {
        "id": "GfYa0lGONK1B"
      },
      "source": [
        "# Defining and formatting \"y\", or the target output array\n",
        "y = dataset[' Company Profit'].to_numpy()"
      ],
      "execution_count": 148,
      "outputs": []
    },
    {
      "cell_type": "code",
      "metadata": {
        "colab": {
          "base_uri": "https://localhost:8080/",
          "height": 295
        },
        "id": "upv_W82DCePc",
        "outputId": "9ba4cf53-109e-4613-efa6-c7616a169058"
      },
      "source": [
        "# Visualizing the data\n",
        "matplotlib.pyplot.figure()\n",
        "matplotlib.pyplot.scatter(X, y , marker = \"x\")\n",
        "matplotlib.pyplot.title(\"Relationship Between City Population and Company Profit\")\n",
        "matplotlib.pyplot.xlabel(\"City Population (in 10,000's)\")\n",
        "matplotlib.pyplot.ylabel(\"Company Profit (in 10,000's)\")\n",
        "matplotlib.pyplot.show()"
      ],
      "execution_count": 149,
      "outputs": [
        {
          "output_type": "display_data",
          "data": {
            "image/png": "[encoded data removed]",
            "text/plain": [
              "<Figure size 432x288 with 1 Axes>"
            ]
          },
          "metadata": {
            "tags": [],
            "needs_background": "light"
          }
        }
      ]
    },
    {
      "cell_type": "code",
      "metadata": {
        "id": "Yz89rfGdC-sX"
      },
      "source": [
        "# Initializing the model\n",
        "model = sklearn.linear_model.LinearRegression(fit_intercept = True) "
      ],
      "execution_count": 150,
      "outputs": []
    },
    {
      "cell_type": "code",
      "metadata": {
        "colab": {
          "base_uri": "https://localhost:8080/"
        },
        "id": "I-kqMaDXVX6I",
        "outputId": "9d4c4780-0c29-4857-bbdb-a5eda9841836"
      },
      "source": [
        "# Optimizing the model\n",
        "model.fit(X, y)"
      ],
      "execution_count": 151,
      "outputs": [
        {
          "output_type": "execute_result",
          "data": {
            "text/plain": [
              "LinearRegression(copy_X=True, fit_intercept=True, n_jobs=None, normalize=False)"
            ]
          },
          "metadata": {
            "tags": []
          },
          "execution_count": 151
        }
      ]
    },
    {
      "cell_type": "code",
      "metadata": {
        "colab": {
          "base_uri": "https://localhost:8080/",
          "height": 313
        },
        "id": "MWsAW6aVVae-",
        "outputId": "6cef4eab-0638-46be-e4e0-0ba1e8293d40"
      },
      "source": [
        "# Visualizing the optimized model\n",
        "matplotlib.pyplot.figure()\n",
        "matplotlib.pyplot.scatter(X, y, marker = \"x\")\n",
        "matplotlib.pyplot.plot(numpy.linspace(0, 25), float(model.coef_) * x + float(model.intercept_,), 'r')\n",
        "matplotlib.pyplot.xlim([0, 25])\n",
        "matplotlib.pyplot.ylim([-5, 25])\n",
        "matplotlib.pyplot.title(\"Relationship Between City Population and Company Profit\")\n",
        "matplotlib.pyplot.xlabel(\"City Population (in 10,000's)\")\n",
        "matplotlib.pyplot.ylabel(\"Company Profit (in 10,000's)\")\n",
        "matplotlib.pyplot.plot()"
      ],
      "execution_count": 152,
      "outputs": [
        {
          "output_type": "execute_result",
          "data": {
            "text/plain": [
              "[]"
            ]
          },
          "metadata": {
            "tags": []
          },
          "execution_count": 152
        },
        {
          "output_type": "display_data",
          "data": {
            "image/png": "[encoded data removed]",
            "text/plain": [
              "<Figure size 432x288 with 1 Axes>"
            ]
          },
          "metadata": {
            "tags": [],
            "needs_background": "light"
          }
        }
      ]
    },
    {
      "cell_type": "code",
      "metadata": {
        "id": "3vYOSRGRndT0"
      },
      "source": [
        ""
      ],
      "execution_count": null,
      "outputs": []
    }
  ]
}
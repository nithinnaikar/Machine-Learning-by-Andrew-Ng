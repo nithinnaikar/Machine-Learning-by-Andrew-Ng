{
  "nbformat": 4,
  "nbformat_minor": 0,
  "metadata": {
    "colab": {
      "name": "LogisticRegression",
      "provenance": []
    },
    "kernelspec": {
      "name": "python3",
      "display_name": "Python 3"
    }
  },
  "cells": [
    {
      "cell_type": "code",
      "metadata": {
        "id": "JaC60G8eNqhP"
      },
      "source": [
        "# Importing Necessary Libraries\n",
        "import numpy\n",
        "import sklearn\n",
        "import matplotlib"
      ],
      "execution_count": 1,
      "outputs": []
    },
    {
      "cell_type": "code",
      "metadata": {
        "colab": {
          "base_uri": "https://localhost:8080/"
        },
        "id": "ybODepthnkZ2",
        "outputId": "0c3397b0-d8f6-42ad-bffa-6e09988aa95c"
      },
      "source": [
        "# Initializing the Dataset\n",
        "dataset = numpy.loadtxt(fname = \"/content/ex2data1.txt\", delimiter = \",\")\n",
        "print(\"Dataset:\\n\\n{}\\n\\nShape:{}\".format(dataset, dataset.shape))"
      ],
      "execution_count": 2,
      "outputs": [
        {
          "output_type": "stream",
          "text": [
            "Dataset:\n",
            "\n",
            "[[34.62365962 78.02469282  0.        ]\n",
            " [30.28671077 43.89499752  0.        ]\n",
            " [35.84740877 72.90219803  0.        ]\n",
            " [60.18259939 86.3085521   1.        ]\n",
            " [79.03273605 75.34437644  1.        ]\n",
            " [45.08327748 56.31637178  0.        ]\n",
            " [61.10666454 96.51142588  1.        ]\n",
            " [75.02474557 46.55401354  1.        ]\n",
            " [76.0987867  87.42056972  1.        ]\n",
            " [84.43281996 43.53339331  1.        ]\n",
            " [95.86155507 38.22527806  0.        ]\n",
            " [75.01365839 30.60326323  0.        ]\n",
            " [82.30705337 76.4819633   1.        ]\n",
            " [69.36458876 97.71869196  1.        ]\n",
            " [39.53833914 76.03681085  0.        ]\n",
            " [53.97105215 89.20735014  1.        ]\n",
            " [69.07014406 52.74046973  1.        ]\n",
            " [67.94685548 46.67857411  0.        ]\n",
            " [70.66150955 92.92713789  1.        ]\n",
            " [76.97878373 47.57596365  1.        ]\n",
            " [67.37202755 42.83843832  0.        ]\n",
            " [89.67677575 65.79936593  1.        ]\n",
            " [50.53478829 48.85581153  0.        ]\n",
            " [34.21206098 44.2095286   0.        ]\n",
            " [77.92409145 68.97235999  1.        ]\n",
            " [62.27101367 69.95445795  1.        ]\n",
            " [80.19018075 44.82162893  1.        ]\n",
            " [93.1143888  38.80067034  0.        ]\n",
            " [61.83020602 50.25610789  0.        ]\n",
            " [38.7858038  64.99568096  0.        ]\n",
            " [61.37928945 72.80788731  1.        ]\n",
            " [85.40451939 57.05198398  1.        ]\n",
            " [52.10797973 63.12762377  0.        ]\n",
            " [52.04540477 69.43286012  1.        ]\n",
            " [40.23689374 71.16774802  0.        ]\n",
            " [54.63510555 52.21388588  0.        ]\n",
            " [33.91550011 98.86943574  0.        ]\n",
            " [64.17698887 80.90806059  1.        ]\n",
            " [74.78925296 41.57341523  0.        ]\n",
            " [34.18364003 75.23772034  0.        ]\n",
            " [83.90239366 56.30804622  1.        ]\n",
            " [51.54772027 46.85629026  0.        ]\n",
            " [94.44336777 65.56892161  1.        ]\n",
            " [82.36875376 40.61825516  0.        ]\n",
            " [51.04775177 45.82270146  0.        ]\n",
            " [62.22267576 52.06099195  0.        ]\n",
            " [77.19303493 70.4582      1.        ]\n",
            " [97.77159928 86.72782233  1.        ]\n",
            " [62.0730638  96.76882412  1.        ]\n",
            " [91.5649745  88.69629255  1.        ]\n",
            " [79.94481794 74.16311935  1.        ]\n",
            " [99.27252693 60.999031    1.        ]\n",
            " [90.54671411 43.39060181  1.        ]\n",
            " [34.52451385 60.39634246  0.        ]\n",
            " [50.28649612 49.80453881  0.        ]\n",
            " [49.58667722 59.80895099  0.        ]\n",
            " [97.64563396 68.86157272  1.        ]\n",
            " [32.57720017 95.59854761  0.        ]\n",
            " [74.24869137 69.82457123  1.        ]\n",
            " [71.79646206 78.45356225  1.        ]\n",
            " [75.39561147 85.75993667  1.        ]\n",
            " [35.28611282 47.02051395  0.        ]\n",
            " [56.2538175  39.26147251  0.        ]\n",
            " [30.05882245 49.59297387  0.        ]\n",
            " [44.66826172 66.45008615  0.        ]\n",
            " [66.56089447 41.09209808  0.        ]\n",
            " [40.45755098 97.53518549  1.        ]\n",
            " [49.07256322 51.88321182  0.        ]\n",
            " [80.27957401 92.11606081  1.        ]\n",
            " [66.74671857 60.99139403  1.        ]\n",
            " [32.72283304 43.30717306  0.        ]\n",
            " [64.03932042 78.03168802  1.        ]\n",
            " [72.34649423 96.22759297  1.        ]\n",
            " [60.45788574 73.0949981   1.        ]\n",
            " [58.84095622 75.85844831  1.        ]\n",
            " [99.8278578  72.36925193  1.        ]\n",
            " [47.26426911 88.475865    1.        ]\n",
            " [50.4581598  75.80985953  1.        ]\n",
            " [60.45555629 42.50840944  0.        ]\n",
            " [82.22666158 42.71987854  0.        ]\n",
            " [88.91389642 69.8037889   1.        ]\n",
            " [94.83450672 45.6943068   1.        ]\n",
            " [67.31925747 66.58935318  1.        ]\n",
            " [57.23870632 59.51428198  1.        ]\n",
            " [80.366756   90.9601479   1.        ]\n",
            " [68.46852179 85.5943071   1.        ]\n",
            " [42.07545454 78.844786    0.        ]\n",
            " [75.47770201 90.424539    1.        ]\n",
            " [78.63542435 96.64742717  1.        ]\n",
            " [52.34800399 60.76950526  0.        ]\n",
            " [94.09433113 77.15910509  1.        ]\n",
            " [90.44855097 87.50879176  1.        ]\n",
            " [55.48216114 35.57070347  0.        ]\n",
            " [74.49269242 84.84513685  1.        ]\n",
            " [89.84580671 45.35828361  1.        ]\n",
            " [83.48916274 48.3802858   1.        ]\n",
            " [42.26170081 87.10385094  1.        ]\n",
            " [99.31500881 68.77540947  1.        ]\n",
            " [55.34001756 64.93193801  1.        ]\n",
            " [74.775893   89.5298129   1.        ]]\n",
            "\n",
            "Shape:(100, 3)\n"
          ],
          "name": "stdout"
        }
      ]
    },
    {
      "cell_type": "code",
      "metadata": {
        "id": "IP7GyNERn4QY"
      },
      "source": [
        "# Dividing and Reshaping the Dataset Into Training and Testing Subsets\n",
        "X_train, X_test, y_train, y_test = sklearn.model_selection.train_test_split(dataset[:, :2], dataset[:, 2], test_size = 0.1)\n",
        "X_train = numpy.resize(X_train, (90, 2))\n",
        "y_train = numpy.resize(y_train, (90, 1))\n",
        "X_test = numpy.resize(X_test, (10, 2))\n",
        "y_test = numpy.resize(y_test, (10, 1))"
      ],
      "execution_count": 4,
      "outputs": []
    },
    {
      "cell_type": "code",
      "metadata": {
        "colab": {
          "base_uri": "https://localhost:8080/"
        },
        "id": "ixvh9DEsoOZL",
        "outputId": "8516b0eb-c227-4e83-b307-2f6283b338ca"
      },
      "source": [
        "# Visualizing the 90x2 Training Input Feature Matrix\n",
        "print(\"X_train:\\n\\n{}\\n\\nShape:{}\".format(X_train, X_train.shape))"
      ],
      "execution_count": 5,
      "outputs": [
        {
          "output_type": "stream",
          "text": [
            "X_train:\n",
            "\n",
            "[[32.57720017 95.59854761]\n",
            " [50.4581598  75.80985953]\n",
            " [61.83020602 50.25610789]\n",
            " [51.54772027 46.85629026]\n",
            " [77.19303493 70.4582    ]\n",
            " [30.28671077 43.89499752]\n",
            " [85.40451939 57.05198398]\n",
            " [90.44855097 87.50879176]\n",
            " [70.66150955 92.92713789]\n",
            " [56.2538175  39.26147251]\n",
            " [66.56089447 41.09209808]\n",
            " [88.91389642 69.8037889 ]\n",
            " [77.92409145 68.97235999]\n",
            " [61.10666454 96.51142588]\n",
            " [66.74671857 60.99139403]\n",
            " [75.47770201 90.424539  ]\n",
            " [58.84095622 75.85844831]\n",
            " [33.91550011 98.86943574]\n",
            " [74.24869137 69.82457123]\n",
            " [99.27252693 60.999031  ]\n",
            " [89.84580671 45.35828361]\n",
            " [83.48916274 48.3802858 ]\n",
            " [35.28611282 47.02051395]\n",
            " [40.45755098 97.53518549]\n",
            " [44.66826172 66.45008615]\n",
            " [93.1143888  38.80067034]\n",
            " [50.53478829 48.85581153]\n",
            " [38.7858038  64.99568096]\n",
            " [30.05882245 49.59297387]\n",
            " [34.52451385 60.39634246]\n",
            " [74.78925296 41.57341523]\n",
            " [79.03273605 75.34437644]\n",
            " [82.22666158 42.71987854]\n",
            " [82.30705337 76.4819633 ]\n",
            " [69.07014406 52.74046973]\n",
            " [49.58667722 59.80895099]\n",
            " [55.48216114 35.57070347]\n",
            " [82.36875376 40.61825516]\n",
            " [57.23870632 59.51428198]\n",
            " [68.46852179 85.5943071 ]\n",
            " [47.26426911 88.475865  ]\n",
            " [54.63510555 52.21388588]\n",
            " [40.23689374 71.16774802]\n",
            " [76.0987867  87.42056972]\n",
            " [62.0730638  96.76882412]\n",
            " [64.03932042 78.03168802]\n",
            " [34.18364003 75.23772034]\n",
            " [52.04540477 69.43286012]\n",
            " [45.08327748 56.31637178]\n",
            " [99.31500881 68.77540947]\n",
            " [60.18259939 86.3085521 ]\n",
            " [78.63542435 96.64742717]\n",
            " [75.39561147 85.75993667]\n",
            " [97.64563396 68.86157272]\n",
            " [67.94685548 46.67857411]\n",
            " [90.54671411 43.39060181]\n",
            " [80.366756   90.9601479 ]\n",
            " [75.01365839 30.60326323]\n",
            " [79.94481794 74.16311935]\n",
            " [72.34649423 96.22759297]\n",
            " [67.37202755 42.83843832]\n",
            " [71.79646206 78.45356225]\n",
            " [34.21206098 44.2095286 ]\n",
            " [32.72283304 43.30717306]\n",
            " [80.27957401 92.11606081]\n",
            " [39.53833914 76.03681085]\n",
            " [60.45788574 73.0949981 ]\n",
            " [80.19018075 44.82162893]\n",
            " [94.44336777 65.56892161]\n",
            " [62.27101367 69.95445795]\n",
            " [83.90239366 56.30804622]\n",
            " [76.97878373 47.57596365]\n",
            " [49.07256322 51.88321182]\n",
            " [60.45555629 42.50840944]\n",
            " [91.5649745  88.69629255]\n",
            " [52.34800399 60.76950526]\n",
            " [64.17698887 80.90806059]\n",
            " [42.26170081 87.10385094]\n",
            " [95.86155507 38.22527806]\n",
            " [97.77159928 86.72782233]\n",
            " [61.37928945 72.80788731]\n",
            " [50.28649612 49.80453881]\n",
            " [89.67677575 65.79936593]\n",
            " [94.09433113 77.15910509]\n",
            " [69.36458876 97.71869196]\n",
            " [34.62365962 78.02469282]\n",
            " [42.07545454 78.844786  ]\n",
            " [67.31925747 66.58935318]\n",
            " [52.10797973 63.12762377]\n",
            " [55.34001756 64.93193801]]\n",
            "\n",
            "Shape:(90, 2)\n"
          ],
          "name": "stdout"
        }
      ]
    },
    {
      "cell_type": "code",
      "metadata": {
        "colab": {
          "base_uri": "https://localhost:8080/"
        },
        "id": "v04-J3wW_PsG",
        "outputId": "5d2ab358-a5f0-4884-9549-fccb96d33734"
      },
      "source": [
        "# Visualizing the 90x1 Training Target Output Vector\n",
        "print(\"y_train:\\n\\n{}\\n\\nShape:{}\".format(y_train, y_train.shape))"
      ],
      "execution_count": 6,
      "outputs": [
        {
          "output_type": "stream",
          "text": [
            "y_train:\n",
            "\n",
            "[[0.]\n",
            " [1.]\n",
            " [0.]\n",
            " [0.]\n",
            " [1.]\n",
            " [0.]\n",
            " [1.]\n",
            " [1.]\n",
            " [1.]\n",
            " [0.]\n",
            " [0.]\n",
            " [1.]\n",
            " [1.]\n",
            " [1.]\n",
            " [1.]\n",
            " [1.]\n",
            " [1.]\n",
            " [0.]\n",
            " [1.]\n",
            " [1.]\n",
            " [1.]\n",
            " [1.]\n",
            " [0.]\n",
            " [1.]\n",
            " [0.]\n",
            " [0.]\n",
            " [0.]\n",
            " [0.]\n",
            " [0.]\n",
            " [0.]\n",
            " [0.]\n",
            " [1.]\n",
            " [0.]\n",
            " [1.]\n",
            " [1.]\n",
            " [0.]\n",
            " [0.]\n",
            " [0.]\n",
            " [1.]\n",
            " [1.]\n",
            " [1.]\n",
            " [0.]\n",
            " [0.]\n",
            " [1.]\n",
            " [1.]\n",
            " [1.]\n",
            " [0.]\n",
            " [1.]\n",
            " [0.]\n",
            " [1.]\n",
            " [1.]\n",
            " [1.]\n",
            " [1.]\n",
            " [1.]\n",
            " [0.]\n",
            " [1.]\n",
            " [1.]\n",
            " [0.]\n",
            " [1.]\n",
            " [1.]\n",
            " [0.]\n",
            " [1.]\n",
            " [0.]\n",
            " [0.]\n",
            " [1.]\n",
            " [0.]\n",
            " [1.]\n",
            " [1.]\n",
            " [1.]\n",
            " [1.]\n",
            " [1.]\n",
            " [1.]\n",
            " [0.]\n",
            " [0.]\n",
            " [1.]\n",
            " [0.]\n",
            " [1.]\n",
            " [1.]\n",
            " [0.]\n",
            " [1.]\n",
            " [1.]\n",
            " [0.]\n",
            " [1.]\n",
            " [1.]\n",
            " [1.]\n",
            " [0.]\n",
            " [0.]\n",
            " [1.]\n",
            " [0.]\n",
            " [1.]]\n",
            "\n",
            "Shape:(90, 1)\n"
          ],
          "name": "stdout"
        }
      ]
    },
    {
      "cell_type": "code",
      "metadata": {
        "colab": {
          "base_uri": "https://localhost:8080/",
          "height": 295
        },
        "id": "6h-OFXXj_R0l",
        "outputId": "59ed88bb-e729-42ea-c7ab-76ead056df53"
      },
      "source": [
        "# Graphing the Training Data\n",
        "matplotlib.pyplot.figure()\n",
        "matplotlib.pyplot.scatter(x = X_train[:, 0], y = X_train[:, 1], c = [\"red\" if label == 1 else \"blue\" for label in y_train])\n",
        "matplotlib.pyplot.legend(handles = [matplotlib.patches.Patch(color = \"red\", label = \"Accepted\"), matplotlib.patches.Patch(color = \"blue\", label = \"Rejected\")], loc = \"upper right\")\n",
        "matplotlib.pyplot.title(\"Relationship Between Exam Scores and College Acceptance\")\n",
        "matplotlib.pyplot.xlabel(\"Exam 1 Score\")\n",
        "matplotlib.pyplot.ylabel(\"Exam 2 Score\")\n",
        "matplotlib.pyplot.show()"
      ],
      "execution_count": 7,
      "outputs": [
        {
          "output_type": "display_data",
          "data": {
            "image/png": "[encoded data removed]",
            "text/plain": [
              "<Figure size 432x288 with 1 Axes>"
            ]
          },
          "metadata": {
            "tags": [],
            "needs_background": "light"
          }
        }
      ]
    },
    {
      "cell_type": "code",
      "metadata": {
        "id": "V9pkhYB4Ec4Z"
      },
      "source": [
        "# Initializing the Model\n",
        "model = sklearn.linear_model.LogisticRegression(fit_intercept = True)"
      ],
      "execution_count": 8,
      "outputs": []
    },
    {
      "cell_type": "code",
      "metadata": {
        "colab": {
          "base_uri": "https://localhost:8080/"
        },
        "id": "ddXcvIMPBzz5",
        "outputId": "af25a5b0-c5e3-4626-a9ba-25177493dd1e"
      },
      "source": [
        "# Optimizing the Model\n",
        "model.fit(X_train, y_train)"
      ],
      "execution_count": 9,
      "outputs": [
        {
          "output_type": "stream",
          "text": [
            "/usr/local/lib/python3.6/dist-packages/sklearn/utils/validation.py:760: DataConversionWarning: A column-vector y was passed when a 1d array was expected. Please change the shape of y to (n_samples, ), for example using ravel().\n",
            "  y = column_or_1d(y, warn=True)\n"
          ],
          "name": "stderr"
        },
        {
          "output_type": "execute_result",
          "data": {
            "text/plain": [
              "LogisticRegression(C=1.0, class_weight=None, dual=False, fit_intercept=True,\n",
              "                   intercept_scaling=1, l1_ratio=None, max_iter=100,\n",
              "                   multi_class='auto', n_jobs=None, penalty='l2',\n",
              "                   random_state=None, solver='lbfgs', tol=0.0001, verbose=0,\n",
              "                   warm_start=False)"
            ]
          },
          "metadata": {
            "tags": []
          },
          "execution_count": 9
        }
      ]
    },
    {
      "cell_type": "code",
      "metadata": {
        "colab": {
          "base_uri": "https://localhost:8080/",
          "height": 313
        },
        "id": "rJMv63zWEMpE",
        "outputId": "0d4b9d0c-8df0-46a6-efa8-ff8a12c6b9f7"
      },
      "source": [
        "# Visualizing the Optimized Model\n",
        "matplotlib.pyplot.figure()\n",
        "matplotlib.pyplot.scatter(x = X_train[:, 0], y = X_train[:, 1], c = [\"red\" if label == 1 else \"blue\" for label in y_train])\n",
        "matplotlib.pyplot.legend(handles = [matplotlib.patches.Patch(color = \"red\", label = \"Accepted\"), matplotlib.patches.Patch(color = \"blue\", label = \"Rejected\")], loc = \"upper right\")\n",
        "x = numpy.linspace(30, 100) \n",
        "y = -(float(model.intercept_) + float(model.coef_[0][0])*x) / model.coef_[0][1]\n",
        "matplotlib.pyplot.plot(x, y) \n",
        "matplotlib.pyplot.title(\"Relationship Between Exam Scores and College Acceptance\")\n",
        "matplotlib.pyplot.xlabel(\"Exam 1 Score\")\n",
        "matplotlib.pyplot.ylabel(\"Exam 2 Score\")"
      ],
      "execution_count": 10,
      "outputs": [
        {
          "output_type": "execute_result",
          "data": {
            "text/plain": [
              "Text(0, 0.5, 'Exam 2 Score')"
            ]
          },
          "metadata": {
            "tags": []
          },
          "execution_count": 10
        },
        {
          "output_type": "display_data",
          "data": {
            "image/png": "[encoded data removed]",
            "text/plain": [
              "<Figure size 432x288 with 1 Axes>"
            ]
          },
          "metadata": {
            "tags": [],
            "needs_background": "light"
          }
        }
      ]
    },
    {
      "cell_type": "code",
      "metadata": {
        "colab": {
          "base_uri": "https://localhost:8080/"
        },
        "id": "eoC6OFRpywMb",
        "outputId": "ac329884-ddf4-4b12-9623-84765e5f4748"
      },
      "source": [
        "# Testing the Modle\n",
        "print(\"Testing Accuracy: {}%\".format(100 * (sklearn.metrics.accuracy_score(y_test, model.predict(X_test)))))"
      ],
      "execution_count": 11,
      "outputs": [
        {
          "output_type": "stream",
          "text": [
            "Testing Accuracy: 90.0%\n"
          ],
          "name": "stdout"
        }
      ]
    }
  ]
}
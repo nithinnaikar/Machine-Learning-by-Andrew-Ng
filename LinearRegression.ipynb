{
  "nbformat": 4,
  "nbformat_minor": 0,
  "metadata": {
    "colab": {
      "name": "Linear Regression",
      "provenance": []
    },
    "kernelspec": {
      "display_name": "Python 3",
      "name": "python3"
    }
  },
  "cells": [
    {
      "cell_type": "code",
      "metadata": {
        "id": "p3mCvwxmmVyS"
      },
      "source": [
        "# Importing Necessary Libraries\n",
        "import numpy\n",
        "import sklearn\n",
        "import matplotlib"
      ],
      "execution_count": 1,
      "outputs": []
    },
    {
      "cell_type": "code",
      "metadata": {
        "colab": {
          "base_uri": "https://localhost:8080/"
        },
        "id": "Kzy3CxYrn1hb",
        "outputId": "b4430c86-1f51-453c-a6c5-dc746f616387"
      },
      "source": [
        "# Initializing the Dataset\n",
        "dataset = numpy.loadtxt(fname = \"/content/ex1data1.txt\", delimiter = \",\")\n",
        "print(\"Dataset:\\n\\n{}\\n\\nShape:{}\".format(dataset, dataset.shape))"
      ],
      "execution_count": 2,
      "outputs": [
        {
          "output_type": "stream",
          "text": [
            "Dataset:\n",
            "\n",
            "[[ 6.1101  17.592  ]\n",
            " [ 5.5277   9.1302 ]\n",
            " [ 8.5186  13.662  ]\n",
            " [ 7.0032  11.854  ]\n",
            " [ 5.8598   6.8233 ]\n",
            " [ 8.3829  11.886  ]\n",
            " [ 7.4764   4.3483 ]\n",
            " [ 8.5781  12.     ]\n",
            " [ 6.4862   6.5987 ]\n",
            " [ 5.0546   3.8166 ]\n",
            " [ 5.7107   3.2522 ]\n",
            " [14.164   15.505  ]\n",
            " [ 5.734    3.1551 ]\n",
            " [ 8.4084   7.2258 ]\n",
            " [ 5.6407   0.71618]\n",
            " [ 5.3794   3.5129 ]\n",
            " [ 6.3654   5.3048 ]\n",
            " [ 5.1301   0.56077]\n",
            " [ 6.4296   3.6518 ]\n",
            " [ 7.0708   5.3893 ]\n",
            " [ 6.1891   3.1386 ]\n",
            " [20.27    21.767  ]\n",
            " [ 5.4901   4.263  ]\n",
            " [ 6.3261   5.1875 ]\n",
            " [ 5.5649   3.0825 ]\n",
            " [18.945   22.638  ]\n",
            " [12.828   13.501  ]\n",
            " [10.957    7.0467 ]\n",
            " [13.176   14.692  ]\n",
            " [22.203   24.147  ]\n",
            " [ 5.2524  -1.22   ]\n",
            " [ 6.5894   5.9966 ]\n",
            " [ 9.2482  12.134  ]\n",
            " [ 5.8918   1.8495 ]\n",
            " [ 8.2111   6.5426 ]\n",
            " [ 7.9334   4.5623 ]\n",
            " [ 8.0959   4.1164 ]\n",
            " [ 5.6063   3.3928 ]\n",
            " [12.836   10.117  ]\n",
            " [ 6.3534   5.4974 ]\n",
            " [ 5.4069   0.55657]\n",
            " [ 6.8825   3.9115 ]\n",
            " [11.708    5.3854 ]\n",
            " [ 5.7737   2.4406 ]\n",
            " [ 7.8247   6.7318 ]\n",
            " [ 7.0931   1.0463 ]\n",
            " [ 5.0702   5.1337 ]\n",
            " [ 5.8014   1.844  ]\n",
            " [11.7      8.0043 ]\n",
            " [ 5.5416   1.0179 ]\n",
            " [ 7.5402   6.7504 ]\n",
            " [ 5.3077   1.8396 ]\n",
            " [ 7.4239   4.2885 ]\n",
            " [ 7.6031   4.9981 ]\n",
            " [ 6.3328   1.4233 ]\n",
            " [ 6.3589  -1.4211 ]\n",
            " [ 6.2742   2.4756 ]\n",
            " [ 5.6397   4.6042 ]\n",
            " [ 9.3102   3.9624 ]\n",
            " [ 9.4536   5.4141 ]\n",
            " [ 8.8254   5.1694 ]\n",
            " [ 5.1793  -0.74279]\n",
            " [21.279   17.929  ]\n",
            " [14.908   12.054  ]\n",
            " [18.959   17.054  ]\n",
            " [ 7.2182   4.8852 ]\n",
            " [ 8.2951   5.7442 ]\n",
            " [10.236    7.7754 ]\n",
            " [ 5.4994   1.0173 ]\n",
            " [20.341   20.992  ]\n",
            " [10.136    6.6799 ]\n",
            " [ 7.3345   4.0259 ]\n",
            " [ 6.0062   1.2784 ]\n",
            " [ 7.2259   3.3411 ]\n",
            " [ 5.0269  -2.6807 ]\n",
            " [ 6.5479   0.29678]\n",
            " [ 7.5386   3.8845 ]\n",
            " [ 5.0365   5.7014 ]\n",
            " [10.274    6.7526 ]\n",
            " [ 5.1077   2.0576 ]\n",
            " [ 5.7292   0.47953]\n",
            " [ 5.1884   0.20421]\n",
            " [ 6.3557   0.67861]\n",
            " [ 9.7687   7.5435 ]\n",
            " [ 6.5159   5.3436 ]\n",
            " [ 8.5172   4.2415 ]\n",
            " [ 9.1802   6.7981 ]\n",
            " [ 6.002    0.92695]\n",
            " [ 5.5204   0.152  ]\n",
            " [ 5.0594   2.8214 ]\n",
            " [ 5.7077   1.8451 ]\n",
            " [ 7.6366   4.2959 ]\n",
            " [ 5.8707   7.2029 ]\n",
            " [ 5.3054   1.9869 ]\n",
            " [ 8.2934   0.14454]\n",
            " [13.394    9.0551 ]\n",
            " [ 5.4369   0.61705]]\n",
            "\n",
            "Shape:(97, 2)\n"
          ],
          "name": "stdout"
        }
      ]
    },
    {
      "cell_type": "code",
      "metadata": {
        "id": "aIvJkzwAoKLy"
      },
      "source": [
        "# Dividing and Reshaping the Dataset Into Training and Testing Subsets\n",
        "X_train, X_test, y_train, y_test = sklearn.model_selection.train_test_split(dataset[:, 0], dataset[:, 1], test_size = 0.1)\n",
        "X_train = numpy.resize(X_train, (87, 1))\n",
        "X_test = numpy.resize(X_test, (10, 1))\n",
        "y_train = numpy.resize(y_train, (87, 1))\n",
        "y_test = numpy.resize(y_test, (10, 1))"
      ],
      "execution_count": 5,
      "outputs": []
    },
    {
      "cell_type": "code",
      "metadata": {
        "colab": {
          "base_uri": "https://localhost:8080/"
        },
        "id": "tN6PLYPqyjrM",
        "outputId": "94d43d8a-3189-44d8-afc0-b12565e12502"
      },
      "source": [
        "# Visualizing the 87x1 Training Input Feature Matrix \n",
        "print(\"X_train:\\n\\n{}\\n\\nShape:{}\".format(X_train, X_train.shape))"
      ],
      "execution_count": 6,
      "outputs": [
        {
          "output_type": "stream",
          "text": [
            "X_train:\n",
            "\n",
            "[[ 5.8598]\n",
            " [10.236 ]\n",
            " [ 9.7687]\n",
            " [11.708 ]\n",
            " [21.279 ]\n",
            " [ 6.002 ]\n",
            " [ 6.1101]\n",
            " [ 9.4536]\n",
            " [13.176 ]\n",
            " [ 7.2259]\n",
            " [ 9.3102]\n",
            " [ 5.0365]\n",
            " [ 5.5277]\n",
            " [10.957 ]\n",
            " [ 5.4994]\n",
            " [ 5.2524]\n",
            " [ 6.3328]\n",
            " [ 7.3345]\n",
            " [ 5.1884]\n",
            " [ 7.8247]\n",
            " [14.908 ]\n",
            " [ 6.4862]\n",
            " [ 6.3261]\n",
            " [ 5.3077]\n",
            " [ 7.5386]\n",
            " [ 8.2934]\n",
            " [ 7.0708]\n",
            " [ 5.3054]\n",
            " [ 8.3829]\n",
            " [ 5.8918]\n",
            " [ 5.6407]\n",
            " [ 6.3557]\n",
            " [ 5.6063]\n",
            " [ 5.1793]\n",
            " [ 5.3794]\n",
            " [ 8.2111]\n",
            " [ 5.7077]\n",
            " [ 8.8254]\n",
            " [ 5.0702]\n",
            " [14.164 ]\n",
            " [18.959 ]\n",
            " [ 8.5172]\n",
            " [10.274 ]\n",
            " [ 6.0062]\n",
            " [ 6.3654]\n",
            " [ 7.6031]\n",
            " [ 7.4239]\n",
            " [ 5.1077]\n",
            " [20.341 ]\n",
            " [ 7.0032]\n",
            " [ 5.0546]\n",
            " [ 7.2182]\n",
            " [ 7.0931]\n",
            " [ 5.6397]\n",
            " [ 7.4764]\n",
            " [11.7   ]\n",
            " [ 7.5402]\n",
            " [13.394 ]\n",
            " [ 6.5479]\n",
            " [ 6.3589]\n",
            " [ 6.1891]\n",
            " [ 7.6366]\n",
            " [18.945 ]\n",
            " [ 6.2742]\n",
            " [12.828 ]\n",
            " [20.27  ]\n",
            " [ 5.7292]\n",
            " [ 5.4069]\n",
            " [ 5.5416]\n",
            " [12.836 ]\n",
            " [ 5.0269]\n",
            " [ 8.0959]\n",
            " [ 8.5781]\n",
            " [ 5.8707]\n",
            " [ 9.2482]\n",
            " [10.136 ]\n",
            " [ 6.5894]\n",
            " [ 7.9334]\n",
            " [ 6.5159]\n",
            " [ 8.2951]\n",
            " [ 5.734 ]\n",
            " [ 8.5186]\n",
            " [ 6.3534]\n",
            " [ 8.4084]\n",
            " [ 5.4901]\n",
            " [ 5.5204]\n",
            " [ 9.1802]]\n",
            "\n",
            "Shape:(87, 1)\n"
          ],
          "name": "stdout"
        }
      ]
    },
    {
      "cell_type": "code",
      "metadata": {
        "colab": {
          "base_uri": "https://localhost:8080/"
        },
        "id": "VSGAMdUryz_o",
        "outputId": "83337f60-fd70-4f49-9092-e826caf2d873"
      },
      "source": [
        "# Visualizing the 87x1 Training Target Output Vector\n",
        "print(\"y_train:\\n\\n{}\\n\\nShape:{}\".format(y_train, y_train.shape))"
      ],
      "execution_count": 7,
      "outputs": [
        {
          "output_type": "stream",
          "text": [
            "y_train:\n",
            "\n",
            "[[ 6.8233 ]\n",
            " [ 7.7754 ]\n",
            " [ 7.5435 ]\n",
            " [ 5.3854 ]\n",
            " [17.929  ]\n",
            " [ 0.92695]\n",
            " [17.592  ]\n",
            " [ 5.4141 ]\n",
            " [14.692  ]\n",
            " [ 3.3411 ]\n",
            " [ 3.9624 ]\n",
            " [ 5.7014 ]\n",
            " [ 9.1302 ]\n",
            " [ 7.0467 ]\n",
            " [ 1.0173 ]\n",
            " [-1.22   ]\n",
            " [ 1.4233 ]\n",
            " [ 4.0259 ]\n",
            " [ 0.20421]\n",
            " [ 6.7318 ]\n",
            " [12.054  ]\n",
            " [ 6.5987 ]\n",
            " [ 5.1875 ]\n",
            " [ 1.8396 ]\n",
            " [ 3.8845 ]\n",
            " [ 0.14454]\n",
            " [ 5.3893 ]\n",
            " [ 1.9869 ]\n",
            " [11.886  ]\n",
            " [ 1.8495 ]\n",
            " [ 0.71618]\n",
            " [ 0.67861]\n",
            " [ 3.3928 ]\n",
            " [-0.74279]\n",
            " [ 3.5129 ]\n",
            " [ 6.5426 ]\n",
            " [ 1.8451 ]\n",
            " [ 5.1694 ]\n",
            " [ 5.1337 ]\n",
            " [15.505  ]\n",
            " [17.054  ]\n",
            " [ 4.2415 ]\n",
            " [ 6.7526 ]\n",
            " [ 1.2784 ]\n",
            " [ 5.3048 ]\n",
            " [ 4.9981 ]\n",
            " [ 4.2885 ]\n",
            " [ 2.0576 ]\n",
            " [20.992  ]\n",
            " [11.854  ]\n",
            " [ 3.8166 ]\n",
            " [ 4.8852 ]\n",
            " [ 1.0463 ]\n",
            " [ 4.6042 ]\n",
            " [ 4.3483 ]\n",
            " [ 8.0043 ]\n",
            " [ 6.7504 ]\n",
            " [ 9.0551 ]\n",
            " [ 0.29678]\n",
            " [-1.4211 ]\n",
            " [ 3.1386 ]\n",
            " [ 4.2959 ]\n",
            " [22.638  ]\n",
            " [ 2.4756 ]\n",
            " [13.501  ]\n",
            " [21.767  ]\n",
            " [ 0.47953]\n",
            " [ 0.55657]\n",
            " [ 1.0179 ]\n",
            " [10.117  ]\n",
            " [-2.6807 ]\n",
            " [ 4.1164 ]\n",
            " [12.     ]\n",
            " [ 7.2029 ]\n",
            " [12.134  ]\n",
            " [ 6.6799 ]\n",
            " [ 5.9966 ]\n",
            " [ 4.5623 ]\n",
            " [ 5.3436 ]\n",
            " [ 5.7442 ]\n",
            " [ 3.1551 ]\n",
            " [13.662  ]\n",
            " [ 5.4974 ]\n",
            " [ 7.2258 ]\n",
            " [ 4.263  ]\n",
            " [ 0.152  ]\n",
            " [ 6.7981 ]]\n",
            "\n",
            "Shape:(87, 1)\n"
          ],
          "name": "stdout"
        }
      ]
    },
    {
      "cell_type": "code",
      "metadata": {
        "id": "aqeplraY5vRF",
        "colab": {
          "base_uri": "https://localhost:8080/",
          "height": 295
        },
        "outputId": "b42a0d27-65d4-488f-ecd2-ccff4ac643b0"
      },
      "source": [
        "# Graphing the Training Data\n",
        "matplotlib.pyplot.figure()\n",
        "matplotlib.pyplot.scatter(X_train, y_train)\n",
        "matplotlib.pyplot.title(\"Relationship Between City Population and Company Profit\")\n",
        "matplotlib.pyplot.xlabel(\"City Population (in 10,000's)\")\n",
        "matplotlib.pyplot.ylabel(\"Company Profit (in 10,000's)\")\n",
        "matplotlib.pyplot.show()"
      ],
      "execution_count": 10,
      "outputs": [
        {
          "output_type": "display_data",
          "data": {
            "image/png": "[encoded data removed]",
            "text/plain": [
              "<Figure size 432x288 with 1 Axes>"
            ]
          },
          "metadata": {
            "tags": [],
            "needs_background": "light"
          }
        }
      ]
    },
    {
      "cell_type": "code",
      "metadata": {
        "id": "W6asHZt6pbfw"
      },
      "source": [
        "# Initializing the Model \n",
        "model = sklearn.linear_model.LinearRegression(fit_intercept = True)"
      ],
      "execution_count": 12,
      "outputs": []
    },
    {
      "cell_type": "code",
      "metadata": {
        "colab": {
          "base_uri": "https://localhost:8080/"
        },
        "id": "RH9jDekS-oR0",
        "outputId": "4b1d700b-4f76-4a0a-bca5-1ccb97c3dee3"
      },
      "source": [
        "# Optimizing the Model\n",
        "model.fit(X_train, y_train)"
      ],
      "execution_count": 13,
      "outputs": [
        {
          "output_type": "execute_result",
          "data": {
            "text/plain": [
              "LinearRegression(copy_X=True, fit_intercept=True, n_jobs=None, normalize=False)"
            ]
          },
          "metadata": {
            "tags": []
          },
          "execution_count": 13
        }
      ]
    },
    {
      "cell_type": "code",
      "metadata": {
        "colab": {
          "base_uri": "https://localhost:8080/",
          "height": 295
        },
        "id": "OrZYcSdpzEBa",
        "outputId": "30469e90-3271-49c7-cf59-6e228e910170"
      },
      "source": [
        "# Visualizing the Optimized Model\n",
        "matplotlib.pyplot.figure()\n",
        "matplotlib.pyplot.scatter(X_train, y_train)\n",
        "x = numpy.linspace(0, 25)\n",
        "y = float(model.coef_) * x + float(model.intercept_)\n",
        "matplotlib.pyplot.plot(x, y, 'red')\n",
        "matplotlib.pyplot.title(\"Relationship Between City Population and Company Profit\")\n",
        "matplotlib.pyplot.xlabel(\"City Population (in 10,000's)\")\n",
        "matplotlib.pyplot.ylabel(\"Company Profit (in 10,000's)\")\n",
        "matplotlib.pyplot.show()"
      ],
      "execution_count": 14,
      "outputs": [
        {
          "output_type": "display_data",
          "data": {
            "image/png": "[encoded data removed]",
            "text/plain": [
              "<Figure size 432x288 with 1 Axes>"
            ]
          },
          "metadata": {
            "tags": [],
            "needs_background": "light"
          }
        }
      ]
    },
    {
      "cell_type": "code",
      "metadata": {
        "colab": {
          "base_uri": "https://localhost:8080/"
        },
        "id": "9DjZoo5br887",
        "outputId": "6100b8f7-9de0-4944-c747-18f0fb32dd01"
      },
      "source": [
        "# Visualizing the 10x1 Testing Input Feature Matrix\n",
        "print(\"X_test:\\n\\n{}\\n\\nShape:{}\".format(X_test, X_test.shape))"
      ],
      "execution_count": 16,
      "outputs": [
        {
          "output_type": "stream",
          "text": [
            "X_test:\n",
            "\n",
            "[[ 5.0594]\n",
            " [ 5.5649]\n",
            " [ 6.4296]\n",
            " [22.203 ]\n",
            " [ 5.1301]\n",
            " [ 5.4369]\n",
            " [ 5.7737]\n",
            " [ 5.8014]\n",
            " [ 5.7107]\n",
            " [ 6.8825]]\n",
            "\n",
            "Shape:(10, 1)\n"
          ],
          "name": "stdout"
        }
      ]
    },
    {
      "cell_type": "code",
      "metadata": {
        "colab": {
          "base_uri": "https://localhost:8080/"
        },
        "id": "QiQev67hsOhR",
        "outputId": "f0d737d3-8043-463b-84fd-50715a450615"
      },
      "source": [
        "# Visualizing the 10x1 Testing Target Output Vector\n",
        "print(\"y_test:\\n\\n{}\\n\\nShape:{}\".format(y_test, y_test.shape))"
      ],
      "execution_count": 17,
      "outputs": [
        {
          "output_type": "stream",
          "text": [
            "y_test:\n",
            "\n",
            "[[ 2.8214 ]\n",
            " [ 3.0825 ]\n",
            " [ 3.6518 ]\n",
            " [24.147  ]\n",
            " [ 0.56077]\n",
            " [ 0.61705]\n",
            " [ 2.4406 ]\n",
            " [ 1.844  ]\n",
            " [ 3.2522 ]\n",
            " [ 3.9115 ]]\n",
            "\n",
            "Shape:(10, 1)\n"
          ],
          "name": "stdout"
        }
      ]
    },
    {
      "cell_type": "code",
      "metadata": {
        "id": "tIiOVBdRzPGh",
        "colab": {
          "base_uri": "https://localhost:8080/"
        },
        "outputId": "d656f143-77bf-48bc-e391-3c6e042f4199"
      },
      "source": [
        "# Testing the Model\n",
        "print(\"Testing Error: {}\".format(sklearn.metrics.mean_squared_error(y_test, model.predict(X_test))))"
      ],
      "execution_count": 15,
      "outputs": [
        {
          "output_type": "stream",
          "text": [
            "Testing Error: 1.3979937549355292\n"
          ],
          "name": "stdout"
        }
      ]
    }
  ]
}
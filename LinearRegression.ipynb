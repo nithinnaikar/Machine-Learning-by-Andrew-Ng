{
  "nbformat": 4,
  "nbformat_minor": 0,
  "metadata": {
    "colab": {
      "name": "Linear Regression",
      "provenance": []
    },
    "kernelspec": {
      "display_name": "Python 3",
      "name": "python3"
    }
  },
  "cells": [
    {
      "cell_type": "code",
      "metadata": {
        "id": "p3mCvwxmmVyS"
      },
      "source": [
        "# Importing necessary libraries\n",
        "import numpy\n",
        "import sklearn\n",
        "import matplotlib"
      ],
      "execution_count": 43,
      "outputs": []
    },
    {
      "cell_type": "code",
      "metadata": {
        "colab": {
          "base_uri": "https://localhost:8080/"
        },
        "id": "Kzy3CxYrn1hb",
        "outputId": "9938202d-4869-4e33-e6af-74f6c3792415"
      },
      "source": [
        "# Initializing the dataset\n",
        "dataset = numpy.loadtxt(fname = \"/content/ex1data1.txt\", delimiter = \",\")\n",
        "print(\"Dataset:\\n\\n{}\\n\\nShape:{}\".format(dataset, dataset.shape))"
      ],
      "execution_count": 44,
      "outputs": [
        {
          "output_type": "stream",
          "text": [
            "Dataset:\n",
            "\n",
            "[[ 6.1101  17.592  ]\n",
            " [ 5.5277   9.1302 ]\n",
            " [ 8.5186  13.662  ]\n",
            " [ 7.0032  11.854  ]\n",
            " [ 5.8598   6.8233 ]\n",
            " [ 8.3829  11.886  ]\n",
            " [ 7.4764   4.3483 ]\n",
            " [ 8.5781  12.     ]\n",
            " [ 6.4862   6.5987 ]\n",
            " [ 5.0546   3.8166 ]\n",
            " [ 5.7107   3.2522 ]\n",
            " [14.164   15.505  ]\n",
            " [ 5.734    3.1551 ]\n",
            " [ 8.4084   7.2258 ]\n",
            " [ 5.6407   0.71618]\n",
            " [ 5.3794   3.5129 ]\n",
            " [ 6.3654   5.3048 ]\n",
            " [ 5.1301   0.56077]\n",
            " [ 6.4296   3.6518 ]\n",
            " [ 7.0708   5.3893 ]\n",
            " [ 6.1891   3.1386 ]\n",
            " [20.27    21.767  ]\n",
            " [ 5.4901   4.263  ]\n",
            " [ 6.3261   5.1875 ]\n",
            " [ 5.5649   3.0825 ]\n",
            " [18.945   22.638  ]\n",
            " [12.828   13.501  ]\n",
            " [10.957    7.0467 ]\n",
            " [13.176   14.692  ]\n",
            " [22.203   24.147  ]\n",
            " [ 5.2524  -1.22   ]\n",
            " [ 6.5894   5.9966 ]\n",
            " [ 9.2482  12.134  ]\n",
            " [ 5.8918   1.8495 ]\n",
            " [ 8.2111   6.5426 ]\n",
            " [ 7.9334   4.5623 ]\n",
            " [ 8.0959   4.1164 ]\n",
            " [ 5.6063   3.3928 ]\n",
            " [12.836   10.117  ]\n",
            " [ 6.3534   5.4974 ]\n",
            " [ 5.4069   0.55657]\n",
            " [ 6.8825   3.9115 ]\n",
            " [11.708    5.3854 ]\n",
            " [ 5.7737   2.4406 ]\n",
            " [ 7.8247   6.7318 ]\n",
            " [ 7.0931   1.0463 ]\n",
            " [ 5.0702   5.1337 ]\n",
            " [ 5.8014   1.844  ]\n",
            " [11.7      8.0043 ]\n",
            " [ 5.5416   1.0179 ]\n",
            " [ 7.5402   6.7504 ]\n",
            " [ 5.3077   1.8396 ]\n",
            " [ 7.4239   4.2885 ]\n",
            " [ 7.6031   4.9981 ]\n",
            " [ 6.3328   1.4233 ]\n",
            " [ 6.3589  -1.4211 ]\n",
            " [ 6.2742   2.4756 ]\n",
            " [ 5.6397   4.6042 ]\n",
            " [ 9.3102   3.9624 ]\n",
            " [ 9.4536   5.4141 ]\n",
            " [ 8.8254   5.1694 ]\n",
            " [ 5.1793  -0.74279]\n",
            " [21.279   17.929  ]\n",
            " [14.908   12.054  ]\n",
            " [18.959   17.054  ]\n",
            " [ 7.2182   4.8852 ]\n",
            " [ 8.2951   5.7442 ]\n",
            " [10.236    7.7754 ]\n",
            " [ 5.4994   1.0173 ]\n",
            " [20.341   20.992  ]\n",
            " [10.136    6.6799 ]\n",
            " [ 7.3345   4.0259 ]\n",
            " [ 6.0062   1.2784 ]\n",
            " [ 7.2259   3.3411 ]\n",
            " [ 5.0269  -2.6807 ]\n",
            " [ 6.5479   0.29678]\n",
            " [ 7.5386   3.8845 ]\n",
            " [ 5.0365   5.7014 ]\n",
            " [10.274    6.7526 ]\n",
            " [ 5.1077   2.0576 ]\n",
            " [ 5.7292   0.47953]\n",
            " [ 5.1884   0.20421]\n",
            " [ 6.3557   0.67861]\n",
            " [ 9.7687   7.5435 ]\n",
            " [ 6.5159   5.3436 ]\n",
            " [ 8.5172   4.2415 ]\n",
            " [ 9.1802   6.7981 ]\n",
            " [ 6.002    0.92695]\n",
            " [ 5.5204   0.152  ]\n",
            " [ 5.0594   2.8214 ]\n",
            " [ 5.7077   1.8451 ]\n",
            " [ 7.6366   4.2959 ]\n",
            " [ 5.8707   7.2029 ]\n",
            " [ 5.3054   1.9869 ]\n",
            " [ 8.2934   0.14454]\n",
            " [13.394    9.0551 ]\n",
            " [ 5.4369   0.61705]]\n",
            "\n",
            "Shape:(97, 2)\n"
          ],
          "name": "stdout"
        }
      ]
    },
    {
      "cell_type": "code",
      "metadata": {
        "id": "aIvJkzwAoKLy"
      },
      "source": [
        "# Dividing and reshaping the dataset into training and testing subsets\n",
        "X_train, X_test, y_train, y_test = train_test_split(dataset[:, 0], dataset[:, 1], test_size = 0.1)\n",
        "X_train = numpy.resize(X_train, (87, 1))\n",
        "X_test = numpy.resize(X_test, (10, 1))\n",
        "y_train = numpy.resize(y_train, (87, 1))\n",
        "y_test = numpy.resize(y_test, (10, 1))"
      ],
      "execution_count": 45,
      "outputs": []
    },
    {
      "cell_type": "code",
      "metadata": {
        "colab": {
          "base_uri": "https://localhost:8080/"
        },
        "id": "tN6PLYPqyjrM",
        "outputId": "70a3f783-fb60-43ed-971d-c60b190782a6"
      },
      "source": [
        "# Visualizing the 87x1 input feature matrix \n",
        "print(\"X_train:\\n\\n{}\\n\\nShape:{}\".format(X_train, X_train.shape))"
      ],
      "execution_count": 46,
      "outputs": [
        {
          "output_type": "stream",
          "text": [
            "X_train:\n",
            "\n",
            "[[ 5.0702]\n",
            " [ 9.2482]\n",
            " [ 6.1891]\n",
            " [ 5.734 ]\n",
            " [ 8.2934]\n",
            " [ 6.5479]\n",
            " [21.279 ]\n",
            " [ 6.3589]\n",
            " [ 5.6407]\n",
            " [ 6.3654]\n",
            " [13.394 ]\n",
            " [ 5.6397]\n",
            " [ 7.0032]\n",
            " [ 5.5277]\n",
            " [ 5.4069]\n",
            " [ 7.2182]\n",
            " [ 6.3261]\n",
            " [ 5.5204]\n",
            " [ 8.0959]\n",
            " [ 9.4536]\n",
            " [ 8.3829]\n",
            " [20.341 ]\n",
            " [ 6.0062]\n",
            " [ 7.6366]\n",
            " [ 6.4862]\n",
            " [ 7.4239]\n",
            " [10.236 ]\n",
            " [10.957 ]\n",
            " [10.136 ]\n",
            " [ 7.0931]\n",
            " [ 5.7077]\n",
            " [14.908 ]\n",
            " [13.176 ]\n",
            " [ 5.4369]\n",
            " [ 5.0269]\n",
            " [ 5.2524]\n",
            " [ 6.5159]\n",
            " [ 6.3328]\n",
            " [20.27  ]\n",
            " [ 5.8707]\n",
            " [ 5.3054]\n",
            " [ 5.1793]\n",
            " [ 7.5386]\n",
            " [ 9.1802]\n",
            " [ 5.3077]\n",
            " [ 9.7687]\n",
            " [ 7.6031]\n",
            " [ 8.5172]\n",
            " [12.836 ]\n",
            " [ 5.8014]\n",
            " [ 8.8254]\n",
            " [11.7   ]\n",
            " [ 8.2951]\n",
            " [18.959 ]\n",
            " [ 5.7737]\n",
            " [ 8.4084]\n",
            " [ 7.4764]\n",
            " [ 7.9334]\n",
            " [ 6.1101]\n",
            " [ 8.2111]\n",
            " [ 6.8825]\n",
            " [ 5.0546]\n",
            " [10.274 ]\n",
            " [22.203 ]\n",
            " [ 9.3102]\n",
            " [ 6.002 ]\n",
            " [ 5.0594]\n",
            " [ 6.3534]\n",
            " [ 5.1884]\n",
            " [ 5.5649]\n",
            " [ 5.5416]\n",
            " [ 6.4296]\n",
            " [14.164 ]\n",
            " [ 5.3794]\n",
            " [ 5.4901]\n",
            " [ 6.2742]\n",
            " [ 5.4994]\n",
            " [ 5.8598]\n",
            " [ 6.3557]\n",
            " [ 6.5894]\n",
            " [ 8.5186]\n",
            " [ 7.3345]\n",
            " [ 5.7292]\n",
            " [ 8.5781]\n",
            " [ 5.8918]\n",
            " [ 5.1301]\n",
            " [ 5.1077]]\n",
            "\n",
            "Shape:(87, 1)\n"
          ],
          "name": "stdout"
        }
      ]
    },
    {
      "cell_type": "code",
      "metadata": {
        "colab": {
          "base_uri": "https://localhost:8080/"
        },
        "id": "VSGAMdUryz_o",
        "outputId": "d842fcee-0692-4f69-fe41-4c84a7600489"
      },
      "source": [
        "# Visualizing the 87x1 target output vector\n",
        "print(\"y_train:\\n\\n{}\\n\\nShape:{}\".format(y_train, y_train.shape))"
      ],
      "execution_count": 47,
      "outputs": [
        {
          "output_type": "stream",
          "text": [
            "y_train:\n",
            "\n",
            "[[ 5.1337 ]\n",
            " [12.134  ]\n",
            " [ 3.1386 ]\n",
            " [ 3.1551 ]\n",
            " [ 0.14454]\n",
            " [ 0.29678]\n",
            " [17.929  ]\n",
            " [-1.4211 ]\n",
            " [ 0.71618]\n",
            " [ 5.3048 ]\n",
            " [ 9.0551 ]\n",
            " [ 4.6042 ]\n",
            " [11.854  ]\n",
            " [ 9.1302 ]\n",
            " [ 0.55657]\n",
            " [ 4.8852 ]\n",
            " [ 5.1875 ]\n",
            " [ 0.152  ]\n",
            " [ 4.1164 ]\n",
            " [ 5.4141 ]\n",
            " [11.886  ]\n",
            " [20.992  ]\n",
            " [ 1.2784 ]\n",
            " [ 4.2959 ]\n",
            " [ 6.5987 ]\n",
            " [ 4.2885 ]\n",
            " [ 7.7754 ]\n",
            " [ 7.0467 ]\n",
            " [ 6.6799 ]\n",
            " [ 1.0463 ]\n",
            " [ 1.8451 ]\n",
            " [12.054  ]\n",
            " [14.692  ]\n",
            " [ 0.61705]\n",
            " [-2.6807 ]\n",
            " [-1.22   ]\n",
            " [ 5.3436 ]\n",
            " [ 1.4233 ]\n",
            " [21.767  ]\n",
            " [ 7.2029 ]\n",
            " [ 1.9869 ]\n",
            " [-0.74279]\n",
            " [ 3.8845 ]\n",
            " [ 6.7981 ]\n",
            " [ 1.8396 ]\n",
            " [ 7.5435 ]\n",
            " [ 4.9981 ]\n",
            " [ 4.2415 ]\n",
            " [10.117  ]\n",
            " [ 1.844  ]\n",
            " [ 5.1694 ]\n",
            " [ 8.0043 ]\n",
            " [ 5.7442 ]\n",
            " [17.054  ]\n",
            " [ 2.4406 ]\n",
            " [ 7.2258 ]\n",
            " [ 4.3483 ]\n",
            " [ 4.5623 ]\n",
            " [17.592  ]\n",
            " [ 6.5426 ]\n",
            " [ 3.9115 ]\n",
            " [ 3.8166 ]\n",
            " [ 6.7526 ]\n",
            " [24.147  ]\n",
            " [ 3.9624 ]\n",
            " [ 0.92695]\n",
            " [ 2.8214 ]\n",
            " [ 5.4974 ]\n",
            " [ 0.20421]\n",
            " [ 3.0825 ]\n",
            " [ 1.0179 ]\n",
            " [ 3.6518 ]\n",
            " [15.505  ]\n",
            " [ 3.5129 ]\n",
            " [ 4.263  ]\n",
            " [ 2.4756 ]\n",
            " [ 1.0173 ]\n",
            " [ 6.8233 ]\n",
            " [ 0.67861]\n",
            " [ 5.9966 ]\n",
            " [13.662  ]\n",
            " [ 4.0259 ]\n",
            " [ 0.47953]\n",
            " [12.     ]\n",
            " [ 1.8495 ]\n",
            " [ 0.56077]\n",
            " [ 2.0576 ]]\n",
            "\n",
            "Shape:(87, 1)\n"
          ],
          "name": "stdout"
        }
      ]
    },
    {
      "cell_type": "code",
      "metadata": {
        "id": "aqeplraY5vRF",
        "colab": {
          "base_uri": "https://localhost:8080/",
          "height": 295
        },
        "outputId": "4798a00d-bc6f-4c2c-abb7-e8cc38e0346c"
      },
      "source": [
        "# Graphing the training data\n",
        "matplotlib.pyplot.figure()\n",
        "matplotlib.pyplot.scatter(x = X_train, y = y_train, c = 'black', marker = 'x')\n",
        "matplotlib.pyplot.title(\"Relationship Between City Population and Company Profit\")\n",
        "matplotlib.pyplot.xlabel(\"City Population (in 10,000's)\")\n",
        "matplotlib.pyplot.ylabel(\"Company Profit (in 10,000's)\")\n",
        "matplotlib.pyplot.show()"
      ],
      "execution_count": 48,
      "outputs": [
        {
          "output_type": "display_data",
          "data": {
            "image/png": "[encoded data removed]",
            "text/plain": [
              "<Figure size 432x288 with 1 Axes>"
            ]
          },
          "metadata": {
            "tags": [],
            "needs_background": "light"
          }
        }
      ]
    },
    {
      "cell_type": "code",
      "metadata": {
        "id": "W6asHZt6pbfw"
      },
      "source": [
        "# Initializing the model \n",
        "model = sklearn.linear_model.SGDRegressor(loss = \"squared_loss\", alpha = 0.01, fit_intercept = True, verbose = 1)"
      ],
      "execution_count": 49,
      "outputs": []
    },
    {
      "cell_type": "code",
      "metadata": {
        "id": "6eOzuiQNrCIg"
      },
      "source": [
        "# Initializing the parameters\n",
        "initial_theta_0 = numpy.array([0])\n",
        "initial_theta_1 = numpy.array([0])"
      ],
      "execution_count": 50,
      "outputs": []
    },
    {
      "cell_type": "code",
      "metadata": {
        "colab": {
          "base_uri": "https://localhost:8080/",
          "height": 295
        },
        "id": "L_mQSMB4wF2E",
        "outputId": "7ef04dd9-1c79-4d5b-ecf1-0b19c0ac5a6e"
      },
      "source": [
        "# Visualizing the initial model\n",
        "matplotlib.pyplot.figure()\n",
        "matplotlib.pyplot.scatter(x = X_train, y = y_train, c = 'black', marker = 'x')\n",
        "x = numpy.linspace(0, 25)\n",
        "y = float(initial_theta_1) * x + float(initial_theta_0)\n",
        "matplotlib.pyplot.plot(x, y)\n",
        "matplotlib.pyplot.title(\"Relationship Between City Population and Company Profit\")\n",
        "matplotlib.pyplot.xlabel(\"City Population (in 10,000's)\")\n",
        "matplotlib.pyplot.ylabel(\"Company Profit (in 10,000's)\")\n",
        "matplotlib.pyplot.show()"
      ],
      "execution_count": 51,
      "outputs": [
        {
          "output_type": "display_data",
          "data": {
            "image/png": "[encoded data removed]",
            "text/plain": [
              "<Figure size 432x288 with 1 Axes>"
            ]
          },
          "metadata": {
            "tags": [],
            "needs_background": "light"
          }
        }
      ]
    },
    {
      "cell_type": "code",
      "metadata": {
        "colab": {
          "base_uri": "https://localhost:8080/"
        },
        "id": "RH9jDekS-oR0",
        "outputId": "7e2b5501-7521-4eb6-972c-03128c1a03e3"
      },
      "source": [
        "# Optimizing the model \n",
        "model.fit(X = X_train, y = y_train, coef_init = initial_theta_1, intercept_init = initial_theta_0)"
      ],
      "execution_count": 52,
      "outputs": [
        {
          "output_type": "stream",
          "text": [
            "-- Epoch 1\n",
            "Norm: 0.67, NNZs: 1, Bias: -0.146765, T: 87, Avg. loss: 8.112870\n",
            "Total training time: 0.00 seconds.\n",
            "-- Epoch 2\n",
            "Norm: 0.91, NNZs: 1, Bias: -0.315329, T: 174, Avg. loss: 7.273334\n",
            "Total training time: 0.00 seconds.\n",
            "-- Epoch 3\n",
            "Norm: 0.78, NNZs: 1, Bias: -0.421116, T: 261, Avg. loss: 6.008756\n",
            "Total training time: 0.00 seconds.\n",
            "-- Epoch 4\n",
            "Norm: 1.23, NNZs: 1, Bias: -0.481872, T: 348, Avg. loss: 6.213506\n",
            "Total training time: 0.00 seconds.\n",
            "-- Epoch 5\n",
            "Norm: 1.05, NNZs: 1, Bias: -0.634116, T: 435, Avg. loss: 6.702502\n",
            "Total training time: 0.00 seconds.\n",
            "-- Epoch 6\n",
            "Norm: 0.82, NNZs: 1, Bias: -0.758798, T: 522, Avg. loss: 5.945417\n",
            "Total training time: 0.01 seconds.\n",
            "-- Epoch 7\n",
            "Norm: 0.75, NNZs: 1, Bias: -0.881431, T: 609, Avg. loss: 6.069403\n",
            "Total training time: 0.01 seconds.\n",
            "-- Epoch 8\n",
            "Norm: 0.83, NNZs: 1, Bias: -0.971969, T: 696, Avg. loss: 5.983763\n",
            "Total training time: 0.01 seconds.\n",
            "-- Epoch 9\n",
            "Norm: 0.82, NNZs: 1, Bias: -1.058181, T: 783, Avg. loss: 5.699006\n",
            "Total training time: 0.01 seconds.\n",
            "-- Epoch 10\n",
            "Norm: 0.96, NNZs: 1, Bias: -1.127743, T: 870, Avg. loss: 6.061478\n",
            "Total training time: 0.01 seconds.\n",
            "-- Epoch 11\n",
            "Norm: 0.74, NNZs: 1, Bias: -1.222738, T: 957, Avg. loss: 5.598284\n",
            "Total training time: 0.01 seconds.\n",
            "-- Epoch 12\n",
            "Norm: 0.99, NNZs: 1, Bias: -1.276036, T: 1044, Avg. loss: 5.819228\n",
            "Total training time: 0.01 seconds.\n",
            "-- Epoch 13\n",
            "Norm: 0.77, NNZs: 1, Bias: -1.365801, T: 1131, Avg. loss: 5.466665\n",
            "Total training time: 0.01 seconds.\n",
            "-- Epoch 14\n",
            "Norm: 0.91, NNZs: 1, Bias: -1.404682, T: 1218, Avg. loss: 5.703432\n",
            "Total training time: 0.01 seconds.\n",
            "-- Epoch 15\n",
            "Norm: 0.98, NNZs: 1, Bias: -1.470004, T: 1305, Avg. loss: 5.671582\n",
            "Total training time: 0.01 seconds.\n",
            "-- Epoch 16\n",
            "Norm: 0.76, NNZs: 1, Bias: -1.562267, T: 1392, Avg. loss: 5.117069\n",
            "Total training time: 0.01 seconds.\n",
            "-- Epoch 17\n",
            "Norm: 0.95, NNZs: 1, Bias: -1.592075, T: 1479, Avg. loss: 5.579728\n",
            "Total training time: 0.01 seconds.\n",
            "-- Epoch 18\n",
            "Norm: 0.93, NNZs: 1, Bias: -1.639723, T: 1566, Avg. loss: 5.408708\n",
            "Total training time: 0.01 seconds.\n",
            "-- Epoch 19\n",
            "Norm: 1.14, NNZs: 1, Bias: -1.672937, T: 1653, Avg. loss: 5.326060\n",
            "Total training time: 0.01 seconds.\n",
            "-- Epoch 20\n",
            "Norm: 1.07, NNZs: 1, Bias: -1.732006, T: 1740, Avg. loss: 5.265815\n",
            "Total training time: 0.01 seconds.\n",
            "-- Epoch 21\n",
            "Norm: 1.01, NNZs: 1, Bias: -1.789750, T: 1827, Avg. loss: 5.575833\n",
            "Total training time: 0.01 seconds.\n",
            "Convergence after 21 epochs took 0.01 seconds\n"
          ],
          "name": "stdout"
        },
        {
          "output_type": "stream",
          "text": [
            "/usr/local/lib/python3.6/dist-packages/sklearn/utils/validation.py:760: DataConversionWarning: A column-vector y was passed when a 1d array was expected. Please change the shape of y to (n_samples, ), for example using ravel().\n",
            "  y = column_or_1d(y, warn=True)\n"
          ],
          "name": "stderr"
        },
        {
          "output_type": "execute_result",
          "data": {
            "text/plain": [
              "SGDRegressor(alpha=0.01, average=False, early_stopping=False, epsilon=0.1,\n",
              "             eta0=0.01, fit_intercept=True, l1_ratio=0.15,\n",
              "             learning_rate='invscaling', loss='squared_loss', max_iter=1000,\n",
              "             n_iter_no_change=5, penalty='l2', power_t=0.25, random_state=None,\n",
              "             shuffle=True, tol=0.001, validation_fraction=0.1, verbose=1,\n",
              "             warm_start=False)"
            ]
          },
          "metadata": {
            "tags": []
          },
          "execution_count": 52
        }
      ]
    },
    {
      "cell_type": "code",
      "metadata": {
        "colab": {
          "base_uri": "https://localhost:8080/",
          "height": 295
        },
        "id": "OrZYcSdpzEBa",
        "outputId": "21ec6b75-143c-4358-ea91-52d3a68499a0"
      },
      "source": [
        "# Visualizing the optimized model\n",
        "matplotlib.pyplot.figure()\n",
        "matplotlib.pyplot.scatter(x = X_train, y = y_train, c = 'black', marker = 'x')\n",
        "x = numpy.linspace(0, 25)\n",
        "y = float(model.coef_) * x + float(model.intercept_)\n",
        "matplotlib.pyplot.plot(x, y)\n",
        "matplotlib.pyplot.title(\"Relationship Between City Population and Company Profit\")\n",
        "matplotlib.pyplot.xlabel(\"City Population (in 10,000's)\")\n",
        "matplotlib.pyplot.ylabel(\"Company Profit (in 10,000's)\")\n",
        "matplotlib.pyplot.show()"
      ],
      "execution_count": 53,
      "outputs": [
        {
          "output_type": "display_data",
          "data": {
            "image/png": "[encoded data removed]",
            "text/plain": [
              "<Figure size 432x288 with 1 Axes>"
            ]
          },
          "metadata": {
            "tags": [],
            "needs_background": "light"
          }
        }
      ]
    },
    {
      "cell_type": "code",
      "metadata": {
        "id": "tIiOVBdRzPGh",
        "colab": {
          "base_uri": "https://localhost:8080/"
        },
        "outputId": "415403d2-6d84-45fd-96c3-3f44be711866"
      },
      "source": [
        "# Testing the model\n",
        "print(\"Model's testing error: {}\".format(sklearn.metrics.mean_squared_error(y_test, model.predict(X_test))))"
      ],
      "execution_count": 54,
      "outputs": [
        {
          "output_type": "stream",
          "text": [
            "Model's testing error: 6.745365386035891\n"
          ],
          "name": "stdout"
        }
      ]
    },
    {
      "cell_type": "code",
      "metadata": {
        "id": "8CcroN0T-wtC"
      },
      "source": [
        ""
      ],
      "execution_count": 54,
      "outputs": []
    }
  ]
}